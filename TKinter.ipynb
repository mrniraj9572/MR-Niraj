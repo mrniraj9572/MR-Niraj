{
 "cells": [
  {
   "cell_type": "code",
   "execution_count": 7,
   "id": "53c50266-f6c0-40eb-a1ba-b0ac6cdb1462",
   "metadata": {},
   "outputs": [],
   "source": [
    "#draw the button\n",
    "import tkinter as tk\n",
    "window = tk.Tk()\n",
    "button = tk.Button(window,text=\"click me\").pack()\n",
    "window.mainloop()"
   ]
  },
  {
   "cell_type": "code",
   "execution_count": 4,
   "id": "73e1bce4-788a-4410-83b2-3c1f149f9cf7",
   "metadata": {},
   "outputs": [],
   "source": [
    "#grid()\n",
    "import tkinter as tk\n",
    "#creat the main window\n",
    "window = tk.Tk()\n",
    "label = tk.Label(window, text=\"UserName:\")\n",
    "label.grid(row=0,column=1)\n",
    "window.mainloop()"
   ]
  },
  {
   "cell_type": "code",
   "execution_count": 9,
   "id": "7708dcf8-9d23-40c2-9eb0-114d1b6288d1",
   "metadata": {},
   "outputs": [],
   "source": [
    "#Place\n",
    "import tkinter as tk\n",
    "#create the main window\n",
    "window = tk.Tk()\n",
    "button = tk.Button(window, text=\"Tuch Me \")\n",
    "button.place(x=300,y=900)\n",
    "window.mainloop()"
   ]
  },
  {
   "cell_type": "code",
   "execution_count": 3,
   "id": "a1b63ac3-6788-468a-a68b-3eeb8da39798",
   "metadata": {},
   "outputs": [],
   "source": [
    "import tkinter as tk\n",
    "\n",
    "window = tk.Tk()\n",
    "\n",
    "def handle_keypress(event):\n",
    "    \"\"\"Print the character associated to the key pressed\"\"\"\n",
    "    print(event.char)\n",
    "\n",
    "# Bind keypress event to handle_keypress()\n",
    "window.bind(\"<Key>\", handle_keypress)\n",
    "\n",
    "window.mainloop()\n"
   ]
  },
  {
   "cell_type": "code",
   "execution_count": 1,
   "id": "5fc9d343-0232-4c8c-8cdd-0f5e62d13442",
   "metadata": {},
   "outputs": [
    {
     "data": {
      "text/plain": [
       "'3033549273792handle_click'"
      ]
     },
     "execution_count": 1,
     "metadata": {},
     "output_type": "execute_result"
    }
   ],
   "source": [
    "import tkinter as tk\n",
    "\n",
    "window = tk.Tk()\n",
    "\n",
    "def handle_click(event):\n",
    "    print(\"The button was clicked!\")\n",
    "\n",
    "button = tk.Button(text=\"Click me!\")\n",
    "button.pack()\n",
    "\n",
    "button.bind(\"<Button-1>\", handle_click)\n"
   ]
  },
  {
   "cell_type": "code",
   "execution_count": 15,
   "id": "325ad009-5a77-44b9-997c-b09974328f2e",
   "metadata": {},
   "outputs": [],
   "source": [
    "#event in tkinter\n",
    "#button-1>: left Moue Button Click\n",
    "import tkinter as tk\n",
    "def left_click(event):\n",
    "    print(\"left mouse button clicked!\")\n",
    "window  = tk.Tk()\n",
    "button = tk.Button(window,text=\"click Me\")\n",
    "button.pack()\n",
    "button.bind(\"<Button-1>\",left_click)\n",
    "window.mainloop()"
   ]
  },
  {
   "cell_type": "code",
   "execution_count": 24,
   "id": "d084501c-e341-40c0-9137-b4eb6eabd6e2",
   "metadata": {},
   "outputs": [],
   "source": [
    "#event in tkinter\n",
    "#button-2>: left Moue Button Click\n",
    "import tkinter as tk\n",
    "def Right_click(event):\n",
    "    print(\"Right mouse button clicked!\")\n",
    "window  = tk.Tk()\n",
    "button = tk.Button(window,text=\"click Me\")\n",
    "button.pack()\n",
    "button.bind(\"<Button-2>\",Right_click)\n",
    "window.mainloop()"
   ]
  },
  {
   "cell_type": "code",
   "execution_count": 28,
   "id": "3475a9e2-0bb3-494f-9fc3-7fb6d72246bb",
   "metadata": {},
   "outputs": [],
   "source": [
    "#event in tkinter\n",
    "\n",
    "import tkinter as tk\n",
    "def Double_click(event):\n",
    "    print(\" button was double-clicked!\")\n",
    "window  = tk.Tk()\n",
    "button = tk.Button(window,text=\"Double click Me\")\n",
    "button.pack()\n",
    "button.bind(\"<Button-1>\",Double_click)\n",
    "window.mainloop()"
   ]
  },
  {
   "cell_type": "code",
   "execution_count": 42,
   "id": "63417bda-55cc-4714-a586-b62ba5b24a80",
   "metadata": {},
   "outputs": [],
   "source": [
    "#keyPress key Press Evenet\n",
    "import tkinter as tk\n",
    "def key_press(event):\n",
    "    print(f\"key{event.char}was pressd!\")\n",
    "window = tk.Tk()\n",
    "window.bind(\"<KeyPress>\",key_press)\n",
    "window.mainloop()"
   ]
  },
  {
   "cell_type": "code",
   "execution_count": 62,
   "id": "5c63a63f-ce38-4adb-8fe2-987a9310827f",
   "metadata": {},
   "outputs": [
    {
     "name": "stdout",
     "output_type": "stream",
     "text": [
      "Mouse Entered the button!\n",
      "Mouse Entered the button!\n"
     ]
    }
   ],
   "source": [
    "# Mouse Entering a Widget\n",
    "import tkinter as tk\n",
    "def mouse_enter(event):\n",
    "    print(\"Mouse Entered the button!\")\n",
    "window =  tk.Tk()\n",
    "button = tk.Button(window, text=\"Hover over me \")\n",
    "button.pack()\n",
    "button.bind(\"<Enter>\",mouse_leave)\n",
    "window.mainloop()"
   ]
  },
  {
   "cell_type": "code",
   "execution_count": 66,
   "id": "5515aa16-ea25-4e31-993f-9536cee9ac39",
   "metadata": {},
   "outputs": [
    {
     "name": "stdout",
     "output_type": "stream",
     "text": [
      "Mouse Leaved the button!\n",
      "Mouse Leaved the button!\n"
     ]
    }
   ],
   "source": [
    "# Mouse Leaving a Widget\n",
    "import tkinter as tk\n",
    "def mouse_leave(event):\n",
    "    print(\"Mouse Leaved the button!\")\n",
    "window =  tk.Tk()\n",
    "button = tk.Button(window, text=\"Hover over me \")\n",
    "button.pack()\n",
    "button.bind(\"<Leave>\",mouse_leave)\n",
    "window.mainloop()"
   ]
  },
  {
   "cell_type": "code",
   "execution_count": null,
   "id": "dff59651-ae0a-4fe9-8779-80c56873deb4",
   "metadata": {},
   "outputs": [],
   "source": [
    "# wap to create a window using tkinter with two button with processcantrol\n"
   ]
  },
  {
   "cell_type": "code",
   "execution_count": 48,
   "id": "ca966819-83b1-4806-8e0b-0af9c930594d",
   "metadata": {},
   "outputs": [],
   "source": [
    "import tkinter as tk\n",
    "from tkinter import messagebox\n",
    "\n",
    "\n",
    "def start_action():\n",
    "    messagebox.showinfo(\"Action\", \"Start button clicked!\")\n",
    "def end_action():\n",
    "    root.quit()  \n",
    "root = tk.Tk()\n",
    "root.title(\"Start and End Buttons\")\n",
    "\n",
    "start_button = tk.Button(root, text=\"Start\", command=start_action)\n",
    "start_button.pack(pady=10)\n",
    "\n",
    "end_button = tk.Button(root, text=\"End\", command=end_action)\n",
    "end_button.pack(pady=10)\n",
    "\n",
    "# Run the application\n",
    "root.mainloop()\n"
   ]
  },
  {
   "cell_type": "code",
   "execution_count": 46,
   "id": "d57b37b1-11d4-41f1-8fd0-3589435ac46f",
   "metadata": {},
   "outputs": [],
   "source": [
    "#creat a drop-down menu\n",
    "from tkinter import *\n",
    "\n",
    "root = Tk()\n",
    "me = Menu(root)\n",
    "root.config(menu=me)\n",
    "filemenu = Menu(me)\n",
    "me.add_cascade(label='file',menu=filemenu)\n",
    "filemenu.add_command(label='new')\n",
    "filemenu.add_command(label='open..')\n",
    "filemenu.add_separator()\n",
    "filemenu.add_command(label='Exit',command=root.destroy)\n",
    "helpmenu = Menu(me)\n",
    "me.add_cascade(label='Help',menu=helpmenu)\n",
    "helpmenu.add_command(label='About') \n",
    "mainloop()"
   ]
  },
  {
   "cell_type": "code",
   "execution_count": 40,
   "id": "36f54339-a771-42aa-9ef6-fbdc0d378360",
   "metadata": {},
   "outputs": [],
   "source": [
    "# wap t create a Frame\n",
    "#  write a program to create a frame.\n",
    "import tkinter as tk\n",
    "# initialize the main window\n",
    "window= tk.Tk()\n",
    "window.title(\"Frame example\")\n",
    "window.geometry(\"300x300\")\n",
    "\n",
    "# create a frame widget\n",
    "frame = tk.Frame(window, bg=\"lightgray\")\n",
    "frame.pack(fill=tk.BOTH, expand=True)\n",
    "\n",
    "# add widget to the FRAME\n",
    "label= tk.Label(frame, text=\" This is label inside a frame\")\n",
    "label.pack(pady=10)\n",
    "\n",
    "button=tk.Button(frame, text=\"Cick Me\")\n",
    "button.pack(pady=10)\n",
    "\n",
    "# start the tkinter event loop\n",
    "window.mainloop()"
   ]
  },
  {
   "cell_type": "code",
   "execution_count": 27,
   "id": "eb5512ee-a898-4db7-806c-1ad02bbe9d48",
   "metadata": {},
   "outputs": [],
   "source": [
    "# deifferent Between Frame and canvas\n",
    "import tkinter as tk\n",
    "\n",
    "# Create the main application window\n",
    "root = tk.Tk()\n",
    "root.title(\"Frame vs Canvas Example\")\n",
    "\n",
    "frame = tk.Frame(root, width=200, height=200, bg=\"lightgrey\")\n",
    "frame.pack(side=\"left\", padx=20, pady=20)\n",
    "\n",
    "label = tk.Label(frame, text=\"This is inside a Frame\", bg=\"lightgrey\")\n",
    "label.pack(pady=10)\n",
    "\n",
    "button = tk.Button(frame, text=\"Click Me\")\n",
    "button.pack(pady=10)\n",
    "\n",
    "canvas = tk.Canvas(root, width=200, height=200, bg=\"white\")\n",
    "canvas.pack(side=\"right\", padx=20, pady=20)\n",
    "\n",
    "# Draw a rectangle and an oval on the canvas\n",
    "canvas.create_rectangle(50, 50, 150, 150, fill=\"blue\")\n",
    "canvas.create_oval(70, 70, 130, 130, fill=\"red\")\n",
    "\n",
    "# Run the application\n",
    "root.mainloop()\n"
   ]
  },
  {
   "cell_type": "code",
   "execution_count": 3,
   "id": "115749f7-5b96-4eb4-805b-b5cb5ffb3a2a",
   "metadata": {},
   "outputs": [],
   "source": [
    "import tkinter as tk\n",
    "from tkinter import messagebox\n",
    "\n",
    "# Function to save the form data\n",
    "def save_data():\n",
    "    name = entry_name.get()\n",
    "    class_value = entry_class.get()\n",
    "    hobbies = entry_hobbies.get(\"1.0\", tk.END).strip()\n",
    "    gender = gender_var.get()\n",
    "\n",
    "    if name and class_value and gender:\n",
    "        messagebox.showinfo(\"Form Submitted\", f\"Name: {name}\\nClass: {class_value}\\nHobbies: {hobbies}\\nGender: {gender}\")\n",
    "    else:\n",
    "        messagebox.showwarning(\"Incomplete Data\", \"Please fill in all required fields.\")\n",
    "\n",
    "# Function to exit the application\n",
    "def exit_app():\n",
    "    root.quit()\n",
    "\n",
    "# Function to clear the form\n",
    "def clear_form():\n",
    "    entry_name.delete(0, tk.END)\n",
    "    entry_class.delete(0, tk.END)\n",
    "    entry_hobbies.delete(\"1.0\", tk.END)\n",
    "    gender_var.set(None)\n",
    "\n",
    "# Create the main window\n",
    "root = tk.Tk()\n",
    "root.title(\"Admission Form\")\n",
    "\n",
    "label_name = tk.Label(root, text=\"Name:\")\n",
    "label_name.grid(row=0, column=0, padx=10, pady=10)\n",
    "\n",
    "entry_name = tk.Entry(root)\n",
    "entry_name.grid(row=0, column=1, padx=10, pady=10)\n",
    "\n",
    "label_class = tk.Label(root, text=\"Class:\")\n",
    "label_class.grid(row=1, column=0, padx=10, pady=10)\n",
    "\n",
    "entry_class = tk.Entry(root)\n",
    "entry_class.grid(row=1, column=1, padx=10, pady=10)\n",
    "\n",
    "label_hobbies = tk.Label(root, text=\"Hobbies:\")\n",
    "label_hobbies.grid(row=2, column=0, padx=10, pady=10)\n",
    "\n",
    "entry_hobbies = tk.Text(root, height=3, width=20)\n",
    "entry_hobbies.grid(row=2, column=1, padx=10, pady=10)\n",
    "\n",
    "label_gender = tk.Label(root, text=\"Gender:\")\n",
    "label_gender.grid(row=3, column=0, padx=10, pady=10)\n",
    "\n",
    "gender_var = tk.StringVar()\n",
    "radio_male = tk.Radiobutton(root, text=\"Male\", variable=gender_var, value=\"Male\")\n",
    "radio_female = tk.Radiobutton(root, text=\"Female\", variable=gender_var, value=\"Female\")\n",
    "radio_other = tk.Radiobutton(root, text=\"Other\", variable=gender_var, value=\"Other\")\n",
    "\n",
    "radio_male.grid(row=3, column=1, sticky=tk.W, padx=10)\n",
    "radio_female.grid(row=3, column=1, sticky=tk.W, padx=80)\n",
    "radio_other.grid(row=3, column=1, sticky=tk.W, padx=150)\n",
    "\n",
    "button_save = tk.Button(root, text=\"Save\", command=save_data)\n",
    "button_save.grid(row=4, column=0, padx=10, pady=20)\n",
    "\n",
    "button_exit = tk.Button(root, text=\"Exit\", command=exit_app)\n",
    "button_exit.grid(row=4, column=1, padx=10, pady=20, sticky=tk.W)\n",
    "\n",
    "button_cancel = tk.Button(root, text=\"Cancel\", command=clear_form)\n",
    "button_cancel.grid(row=4, column=1, padx=10, pady=20, sticky=tk.E)\n",
    "\n",
    "# Start the main event loop\n",
    "root.mainloop()\n"
   ]
  },
  {
   "cell_type": "code",
   "execution_count": 1,
   "id": "126e0f32-27de-4720-abc7-3a6785014313",
   "metadata": {},
   "outputs": [],
   "source": [
    "import tkinter as tk\n",
    "from tkinter import messagebox\n",
    "\n",
    "# Function to add two numbers\n",
    "def add_numbers():\n",
    "    try:\n",
    "        num1 = float(entry1.get())\n",
    "        num2 = float(entry2.get())\n",
    "        result = num1 + num2\n",
    "        messagebox.showinfo(\"Result\", f\"The sum of {num1} and {num2} is: {result}\")\n",
    "    except ValueError:\n",
    "        messagebox.showerror(\"Input Error\", \"Please enter valid numbers!\")\n",
    "\n",
    "# Create the main window\n",
    "window = tk.Tk()\n",
    "window.title(\"Add Two Numbers\")\n",
    "\n",
    "# Create labels and entry boxes for input\n",
    "label1 = tk.Label(window, text=\"Enter first number:\")\n",
    "label1.pack(pady=5)\n",
    "\n",
    "entry1 = tk.Entry(window)\n",
    "entry1.pack(pady=5)\n",
    "\n",
    "label2 = tk.Label(window, text=\"Enter second number:\")\n",
    "label2.pack(pady=5)\n",
    "\n",
    "entry2 = tk.Entry(window)\n",
    "entry2.pack(pady=5)\n",
    "\n",
    "# Create a button to trigger the addition\n",
    "add_button = tk.Button(window, text=\"Add\", command=add_numbers)\n",
    "add_button.pack(pady=10)\n",
    "\n",
    "# Run the application\n",
    "window.mainloop()"
   ]
  },
  {
   "cell_type": "code",
   "execution_count": null,
   "id": "c3c4eab0-076a-4799-9a12-dd198c6fe8d2",
   "metadata": {},
   "outputs": [],
   "source": []
  }
 ],
 "metadata": {
  "kernelspec": {
   "display_name": "Python 3 (ipykernel)",
   "language": "python",
   "name": "python3"
  },
  "language_info": {
   "codemirror_mode": {
    "name": "ipython",
    "version": 3
   },
   "file_extension": ".py",
   "mimetype": "text/x-python",
   "name": "python",
   "nbconvert_exporter": "python",
   "pygments_lexer": "ipython3",
   "version": "3.12.4"
  }
 },
 "nbformat": 4,
 "nbformat_minor": 5
}
